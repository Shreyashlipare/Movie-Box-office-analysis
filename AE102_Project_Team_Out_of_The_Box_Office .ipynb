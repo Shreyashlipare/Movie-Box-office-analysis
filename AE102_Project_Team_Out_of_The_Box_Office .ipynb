{
 "cells": [
  {
   "cell_type": "markdown",
   "id": "c62e7fd6-b9b4-47c9-8459-276e65aeb596",
   "metadata": {},
   "source": [
    "Out-of-the-Box Office:\n",
    "    PRANJAL CHAKRABORTY 210010051\n",
    "    SHREYASH LIPARE 210010060\n",
    "    KANIKA GUPTA 210010032\n",
    "    PRASHASTI ABOJWAR 210010004\n",
    "    \n",
    "    EFFECT OF THE PANDEMIC ON MOVIE BOX OFFICE NUMBERS"
   ]
  },
  {
   "cell_type": "markdown",
   "id": "f07dde57-97ae-446e-affb-48ae03b3f4a7",
   "metadata": {},
   "source": [
    "INTRODUCTION\n",
    "This project is based on the analysis of movie box-office numbers and the effect that Covid has had on these numbers. For this, we have collected the gross box office income and the IMDB ratings of movies from the years 2018-22. We have colleted our data from a website called 'Box Office Mojo' (boxofficemojo.com). Box Office Mojo collects it's data from various sources such as production companies, distributors, exhibitors etc and is acknowledged as the most accurate and reliable source of box office data on the internet. We have about 450 data points\n",
    "\n",
    "We will begin our project with an exploratory analysis and various pictorial representations of our data, so that the trends and inter-relations can be illustrated. After that, we will try and estimate the various population parameters and find confidence intervals for the same based on the data we have collected. Then, we would try to establish a regression between the two random variables we have, and try to see to what degree they are related and how one varies with the other. And finally we would test the hypothesis that the pandemic has had a negative effect on the numbers.\n",
    "\n",
    "Here's what our data looks like in a tabulated form:"
   ]
  },
  {
   "cell_type": "code",
   "execution_count": 1,
   "id": "50765a4b-c98f-40f2-8ca6-317578beb5cc",
   "metadata": {},
   "outputs": [],
   "source": [
    "import pandas as pd\n",
    "import seaborn as sns\n",
    "import numpy as np\n",
    "import matplotlib.pyplot as plt\n",
    "movies=pd.read_csv('Out-of-the-box Office - Sheet1.csv',header=0, sep=',')\n",
    "movies= movies[movies['IMDB Rating'].notna()]"
   ]
  },
  {
   "cell_type": "code",
   "execution_count": 2,
   "id": "bb11ba0c-5af9-4180-9899-471fc2f55e81",
   "metadata": {},
   "outputs": [
    {
     "data": {
      "text/html": [
       "<div>\n",
       "<style scoped>\n",
       "    .dataframe tbody tr th:only-of-type {\n",
       "        vertical-align: middle;\n",
       "    }\n",
       "\n",
       "    .dataframe tbody tr th {\n",
       "        vertical-align: top;\n",
       "    }\n",
       "\n",
       "    .dataframe thead th {\n",
       "        text-align: right;\n",
       "    }\n",
       "</style>\n",
       "<table border=\"1\" class=\"dataframe\">\n",
       "  <thead>\n",
       "    <tr style=\"text-align: right;\">\n",
       "      <th></th>\n",
       "      <th>Movie Name</th>\n",
       "      <th>Year</th>\n",
       "      <th>Month</th>\n",
       "      <th>Date</th>\n",
       "      <th>Wide Release (Yes/No)</th>\n",
       "      <th>Genre</th>\n",
       "      <th>Net Gross (Domestic)</th>\n",
       "      <th>Net Gross (Worldwide)</th>\n",
       "      <th>Budget</th>\n",
       "      <th>Flop/Hit/Average</th>\n",
       "      <th>Category(Tentpole/Indie/Midlevel)</th>\n",
       "      <th>IMDB Rating</th>\n",
       "      <th>Superhero Movie(Y/N)</th>\n",
       "    </tr>\n",
       "  </thead>\n",
       "  <tbody>\n",
       "    <tr>\n",
       "      <th>0</th>\n",
       "      <td>Insidious: The Last Key</td>\n",
       "      <td>2018</td>\n",
       "      <td>Jan</td>\n",
       "      <td>5</td>\n",
       "      <td>yes</td>\n",
       "      <td>Horror Mystery Thriller</td>\n",
       "      <td>67745330</td>\n",
       "      <td>167885588</td>\n",
       "      <td>NaN</td>\n",
       "      <td>hit</td>\n",
       "      <td>tentpole</td>\n",
       "      <td>5.7</td>\n",
       "      <td>NaN</td>\n",
       "    </tr>\n",
       "    <tr>\n",
       "      <th>1</th>\n",
       "      <td>Molly's Game</td>\n",
       "      <td>2018</td>\n",
       "      <td>Jan</td>\n",
       "      <td>5</td>\n",
       "      <td>yes</td>\n",
       "      <td>Biography Crime Drama Sport</td>\n",
       "      <td>28780744</td>\n",
       "      <td>59284015</td>\n",
       "      <td>NaN</td>\n",
       "      <td>hit</td>\n",
       "      <td>tentpole</td>\n",
       "      <td>7.4</td>\n",
       "      <td>NaN</td>\n",
       "    </tr>\n",
       "    <tr>\n",
       "      <th>2</th>\n",
       "      <td>The Room</td>\n",
       "      <td>2018</td>\n",
       "      <td>Jan</td>\n",
       "      <td>10</td>\n",
       "      <td>no</td>\n",
       "      <td>Drama</td>\n",
       "      <td>549602</td>\n",
       "      <td>1301103</td>\n",
       "      <td>NaN</td>\n",
       "      <td>avg</td>\n",
       "      <td>Mid</td>\n",
       "      <td>6.0</td>\n",
       "      <td>NaN</td>\n",
       "    </tr>\n",
       "    <tr>\n",
       "      <th>3</th>\n",
       "      <td>Alien Intrusion: Unmasking a Deception</td>\n",
       "      <td>2018</td>\n",
       "      <td>Jan</td>\n",
       "      <td>11</td>\n",
       "      <td>yes</td>\n",
       "      <td>Documentary</td>\n",
       "      <td>237411</td>\n",
       "      <td>237411</td>\n",
       "      <td>NaN</td>\n",
       "      <td>flop</td>\n",
       "      <td>Mid</td>\n",
       "      <td>4.5</td>\n",
       "      <td>NaN</td>\n",
       "    </tr>\n",
       "    <tr>\n",
       "      <th>4</th>\n",
       "      <td>The Commuter</td>\n",
       "      <td>2018</td>\n",
       "      <td>Jan</td>\n",
       "      <td>12</td>\n",
       "      <td>yes</td>\n",
       "      <td>Action Mystery Thriller</td>\n",
       "      <td>36343858</td>\n",
       "      <td>119942387</td>\n",
       "      <td>NaN</td>\n",
       "      <td>hit</td>\n",
       "      <td>tentpole</td>\n",
       "      <td>6.3</td>\n",
       "      <td>NaN</td>\n",
       "    </tr>\n",
       "    <tr>\n",
       "      <th>...</th>\n",
       "      <td>...</td>\n",
       "      <td>...</td>\n",
       "      <td>...</td>\n",
       "      <td>...</td>\n",
       "      <td>...</td>\n",
       "      <td>...</td>\n",
       "      <td>...</td>\n",
       "      <td>...</td>\n",
       "      <td>...</td>\n",
       "      <td>...</td>\n",
       "      <td>...</td>\n",
       "      <td>...</td>\n",
       "      <td>...</td>\n",
       "    </tr>\n",
       "    <tr>\n",
       "      <th>419</th>\n",
       "      <td>Morbius</td>\n",
       "      <td>2022</td>\n",
       "      <td>April</td>\n",
       "      <td>1</td>\n",
       "      <td>Yes</td>\n",
       "      <td>Action Adventure Horror Sci-Fi Thriller</td>\n",
       "      <td>$71,932,763</td>\n",
       "      <td>$161,932,763</td>\n",
       "      <td>NaN</td>\n",
       "      <td>Hit</td>\n",
       "      <td>Tentpole</td>\n",
       "      <td>5.1</td>\n",
       "      <td>Y</td>\n",
       "    </tr>\n",
       "    <tr>\n",
       "      <th>420</th>\n",
       "      <td>Sonic the Hedgehog 2</td>\n",
       "      <td>2022</td>\n",
       "      <td>April</td>\n",
       "      <td>8</td>\n",
       "      <td>Yes</td>\n",
       "      <td>Action Adventure Comedy Family Fantasy Sci-Fi</td>\n",
       "      <td>$163,701,471</td>\n",
       "      <td>$326,301,471</td>\n",
       "      <td>NaN</td>\n",
       "      <td>Hit</td>\n",
       "      <td>Tentpole</td>\n",
       "      <td>6.8</td>\n",
       "      <td>NaN</td>\n",
       "    </tr>\n",
       "    <tr>\n",
       "      <th>421</th>\n",
       "      <td>Ambulance</td>\n",
       "      <td>2022</td>\n",
       "      <td>April</td>\n",
       "      <td>8</td>\n",
       "      <td>Yes</td>\n",
       "      <td>Action Crime Drama Thriller</td>\n",
       "      <td>$21,416,920</td>\n",
       "      <td>$50,188,920</td>\n",
       "      <td>NaN</td>\n",
       "      <td>Avg</td>\n",
       "      <td>Mid</td>\n",
       "      <td>6.2</td>\n",
       "      <td>NaN</td>\n",
       "    </tr>\n",
       "    <tr>\n",
       "      <th>422</th>\n",
       "      <td>Everything Everywhere All at Once</td>\n",
       "      <td>2022</td>\n",
       "      <td>April</td>\n",
       "      <td>8</td>\n",
       "      <td>Yes</td>\n",
       "      <td>Action Adventure Comedy Fantasy Sci-Fi</td>\n",
       "      <td>$38,242,599</td>\n",
       "      <td>$41,749,910</td>\n",
       "      <td>NaN</td>\n",
       "      <td>Avg</td>\n",
       "      <td>Mid</td>\n",
       "      <td>8.8</td>\n",
       "      <td>NaN</td>\n",
       "    </tr>\n",
       "    <tr>\n",
       "      <th>423</th>\n",
       "      <td>Father Stu</td>\n",
       "      <td>2022</td>\n",
       "      <td>April</td>\n",
       "      <td>13</td>\n",
       "      <td>Yes</td>\n",
       "      <td>Biography Drama</td>\n",
       "      <td>$18,435,742</td>\n",
       "      <td>$18,437,019</td>\n",
       "      <td>NaN</td>\n",
       "      <td>Avg</td>\n",
       "      <td>Mid</td>\n",
       "      <td>7.0</td>\n",
       "      <td>NaN</td>\n",
       "    </tr>\n",
       "  </tbody>\n",
       "</table>\n",
       "<p>423 rows × 13 columns</p>\n",
       "</div>"
      ],
      "text/plain": [
       "                                 Movie Name  Year  Month  Date  \\\n",
       "0                   Insidious: The Last Key  2018    Jan     5   \n",
       "1                              Molly's Game  2018    Jan     5   \n",
       "2                                  The Room  2018    Jan    10   \n",
       "3    Alien Intrusion: Unmasking a Deception  2018    Jan    11   \n",
       "4                              The Commuter  2018    Jan    12   \n",
       "..                                      ...   ...    ...   ...   \n",
       "419                                 Morbius  2022  April     1   \n",
       "420                    Sonic the Hedgehog 2  2022  April     8   \n",
       "421                               Ambulance  2022  April     8   \n",
       "422       Everything Everywhere All at Once  2022  April     8   \n",
       "423                              Father Stu  2022  April    13   \n",
       "\n",
       "    Wide Release (Yes/No)                                          Genre  \\\n",
       "0                     yes                        Horror Mystery Thriller   \n",
       "1                     yes                    Biography Crime Drama Sport   \n",
       "2                      no                                          Drama   \n",
       "3                     yes                                    Documentary   \n",
       "4                     yes                        Action Mystery Thriller   \n",
       "..                    ...                                            ...   \n",
       "419                   Yes        Action Adventure Horror Sci-Fi Thriller   \n",
       "420                   Yes  Action Adventure Comedy Family Fantasy Sci-Fi   \n",
       "421                   Yes                    Action Crime Drama Thriller   \n",
       "422                   Yes         Action Adventure Comedy Fantasy Sci-Fi   \n",
       "423                   Yes                                Biography Drama   \n",
       "\n",
       "    Net Gross (Domestic) Net Gross (Worldwide) Budget Flop/Hit/Average  \\\n",
       "0               67745330             167885588    NaN              hit   \n",
       "1               28780744              59284015    NaN              hit   \n",
       "2                 549602               1301103    NaN              avg   \n",
       "3                 237411                237411    NaN             flop   \n",
       "4               36343858             119942387    NaN              hit   \n",
       "..                   ...                   ...    ...              ...   \n",
       "419          $71,932,763          $161,932,763    NaN              Hit   \n",
       "420         $163,701,471          $326,301,471    NaN              Hit   \n",
       "421          $21,416,920           $50,188,920    NaN              Avg   \n",
       "422          $38,242,599           $41,749,910    NaN              Avg   \n",
       "423          $18,435,742           $18,437,019    NaN              Avg   \n",
       "\n",
       "    Category(Tentpole/Indie/Midlevel)  IMDB Rating Superhero Movie(Y/N)  \n",
       "0                            tentpole          5.7                  NaN  \n",
       "1                            tentpole          7.4                  NaN  \n",
       "2                                 Mid          6.0                  NaN  \n",
       "3                                 Mid          4.5                  NaN  \n",
       "4                            tentpole          6.3                  NaN  \n",
       "..                                ...          ...                  ...  \n",
       "419                          Tentpole          5.1                    Y  \n",
       "420                          Tentpole          6.8                  NaN  \n",
       "421                               Mid          6.2                  NaN  \n",
       "422                               Mid          8.8                  NaN  \n",
       "423                               Mid          7.0                  NaN  \n",
       "\n",
       "[423 rows x 13 columns]"
      ]
     },
     "execution_count": 2,
     "metadata": {},
     "output_type": "execute_result"
    }
   ],
   "source": [
    "movies"
   ]
  },
  {
   "cell_type": "markdown",
   "id": "7f5a91f3-7db6-4f38-8941-c6432f43fff1",
   "metadata": {},
   "source": [
    "The net gross is the total value of tickets sold in a movie. The 'worldwide' within parantheses refers to tickets sold all over the world, while 'domestic' refers to tickets sold in the USA. We will work with Worldwide Gross in this project, because that we feel will paint a more representative picture. The net gross can be taken to be an indicator of the 'popularity' of a movie. The data is in dollars throughout.\n",
    "\n",
    "IMDB rating, on the other hand is a rating assigned to more or less every movie that comes out by IMDb, which is an online database of information related to films, television series, home videos, video games, and streaming content online. Box Office Mojo, the website from which we have collected our data, is a subsidiary of IMDb. IMDb follows a system of rating where they accept ratings on a scale of 1-10 from both the public and movie critics, with more weight presumably(IMDb does not reveal the exact mechanism) given to critcs' votes. The ratings thus strike a balance between the critics' possible snobbery and the everyman's general limitations of knowledge and can be considered a fair metric to judge the merits of a movie.\n",
    "\n",
    "We would have liked to use the budget value and explore the relation between the budget and the profits and also explore profits across genres(test the hypothesis that the average profit in a certain genre is much greater than that in other genres), but due to lack of availability of credible data on movie budgets, we had to discard those ideas.\n",
    "\n",
    "Here is a pictorial representation and description of our data:"
   ]
  },
  {
   "cell_type": "code",
   "execution_count": 3,
   "id": "0add0dc3-6926-44f2-815f-8b91450821aa",
   "metadata": {},
   "outputs": [],
   "source": [
    "y=movies['Net Gross (Worldwide)'].to_numpy()\n",
    "for i in range(len(y)):\n",
    "    s=''\n",
    "    if type(y[i])!=float:\n",
    "        for j in y[i]:\n",
    "            if 48<=ord(j)<=57: s+=j\n",
    "        y[i]=float(s)\n",
    "y=y.astype('float64') \n",
    "x=movies['IMDB Rating'].to_numpy()\n",
    "movies['Net Gross (Worldwide)']=y"
   ]
  },
  {
   "cell_type": "code",
   "execution_count": null,
   "id": "6251b4f3-8d8d-4106-aea4-f7df8b9dbc00",
   "metadata": {},
   "outputs": [],
   "source": [
    "NET GROSS SAMPLE DESCRIPTION"
   ]
  },
  {
   "cell_type": "code",
   "execution_count": 4,
   "id": "6ce2934f-9da9-412a-8e57-3d9b3f8e155f",
   "metadata": {},
   "outputs": [
    {
     "data": {
      "text/plain": [
       "count    4.230000e+02\n",
       "mean     1.377656e+08\n",
       "std      2.850082e+08\n",
       "min      0.000000e+00\n",
       "25%      4.150976e+06\n",
       "50%      3.354246e+07\n",
       "75%      1.320665e+08\n",
       "max      2.797501e+09\n",
       "Name: Net Gross (Worldwide), dtype: float64"
      ]
     },
     "execution_count": 4,
     "metadata": {},
     "output_type": "execute_result"
    }
   ],
   "source": [
    "movies['Net Gross (Worldwide)'].describe()"
   ]
  },
  {
   "cell_type": "markdown",
   "id": "c6981de2-de34-4140-827e-dbc195de8560",
   "metadata": {},
   "source": [
    "NET GROSS DISTRIBUTION"
   ]
  },
  {
   "cell_type": "code",
   "execution_count": 6,
   "id": "7f108d66-4d98-449f-bad4-3d249691835d",
   "metadata": {},
   "outputs": [
    {
     "data": {
      "text/plain": [
       "(0.0, 1000000000.0)"
      ]
     },
     "execution_count": 6,
     "metadata": {},
     "output_type": "execute_result"
    },
    {
     "data": {
      "image/png": "[encoded data removed]",
      "text/plain": [
       "<Figure size 432x288 with 1 Axes>"
      ]
     },
     "metadata": {
      "needs_background": "light"
     },
     "output_type": "display_data"
    }
   ],
   "source": [
    "sns.histplot(movies, x = y)\n",
    "plt.ylabel('Density')\n",
    "plt.xlabel('Net Gross (Worldwide)')\n",
    "plt.xlim( [ 0, 1e+09 ] )"
   ]
  },
  {
   "cell_type": "code",
   "execution_count": 7,
   "id": "6c5c697d-67c3-4a78-a924-68cda0205914",
   "metadata": {},
   "outputs": [
    {
     "data": {
      "text/plain": [
       "count    423.000000\n",
       "mean       6.322459\n",
       "std        1.059371\n",
       "min        1.700000\n",
       "25%        5.700000\n",
       "50%        6.400000\n",
       "75%        7.000000\n",
       "max        9.100000\n",
       "Name: IMDB Rating, dtype: float64"
      ]
     },
     "execution_count": 7,
     "metadata": {},
     "output_type": "execute_result"
    }
   ],
   "source": [
    "movies['IMDB Rating'].describe()"
   ]
  },
  {
   "cell_type": "code",
   "execution_count": null,
   "id": "699da4dc-1ad6-44a4-a6d1-188fc9a788d7",
   "metadata": {},
   "outputs": [],
   "source": [
    "IMDB RATING DISTRIBUTION"
   ]
  },
  {
   "cell_type": "code",
   "execution_count": 8,
   "id": "851d9356-6423-45a2-bac0-b67454c9b7cf",
   "metadata": {},
   "outputs": [
    {
     "data": {
      "text/plain": [
       "Text(0.5, 0, 'IMDB Rating')"
      ]
     },
     "execution_count": 8,
     "metadata": {},
     "output_type": "execute_result"
    },
    {
     "data": {
      "image/png": "[encoded data removed]",
      "text/plain": [
       "<Figure size 432x288 with 1 Axes>"
      ]
     },
     "metadata": {
      "needs_background": "light"
     },
     "output_type": "display_data"
    }
   ],
   "source": [
    "sns.histplot(movies, x = x)\n",
    "plt.ylabel('Density')\n",
    "plt.xlabel('IMDB Rating')"
   ]
  },
  {
   "cell_type": "code",
   "execution_count": null,
   "id": "ed8d397c-4d2a-4d8f-8ac0-3de1ad0c1d61",
   "metadata": {},
   "outputs": [],
   "source": [
    "JOINT DISTRIBUTION"
   ]
  },
  {
   "cell_type": "code",
   "execution_count": 9,
   "id": "7bacf034-2f23-4b16-8a1b-355ebbeb573c",
   "metadata": {},
   "outputs": [
    {
     "data": {
      "text/plain": [
       "<seaborn.axisgrid.JointGrid at 0x2215d6f8880>"
      ]
     },
     "execution_count": 9,
     "metadata": {},
     "output_type": "execute_result"
    },
    {
     "data": {
      "image/png": "[encoded data removed]",
      "text/plain": [
       "<Figure size 432x432 with 3 Axes>"
      ]
     },
     "metadata": {
      "needs_background": "light"
     },
     "output_type": "display_data"
    }
   ],
   "source": [
    "sns.jointplot(data=movies, x='IMDB Rating', y='Net Gross (Worldwide)', kind='kde', levels=20)"
   ]
  },
  {
   "cell_type": "markdown",
   "id": "87013478-01f6-41d8-8747-96424257147d",
   "metadata": {},
   "source": [
    "REGRESSION\n",
    "Now we try and explore quantitatively the relation between the two random variables. We will only use data from the years 2018 and 2019 first, because here we are interested in discovering the general relationship between Gross and the Ratings, and do not want the added chaos of the pandemic. Later we will again repeat the same excercise with the entire data set, and see to what extent inclusion of pandemic data changes the conclusions we reach based on pre-pandemic data."
   ]
  },
  {
   "cell_type": "code",
   "execution_count": 10,
   "id": "fd098a30-7a0b-4ab0-a08b-b6488e14cebd",
   "metadata": {},
   "outputs": [],
   "source": [
    "movies_before_pandemic=movies[movies.Year.isin([2018,2019])]"
   ]
  },
  {
   "cell_type": "code",
   "execution_count": 12,
   "id": "abfb6ecb-d78c-40f8-80bd-0cdf92816879",
   "metadata": {},
   "outputs": [
    {
     "data": {
      "text/plain": [
       "Text(0.5, 0, 'IMDB Rating')"
      ]
     },
     "execution_count": 12,
     "metadata": {},
     "output_type": "execute_result"
    },
    {
     "data": {
      "image/png": "[encoded data removed]",
      "text/plain": [
       "<Figure size 432x288 with 1 Axes>"
      ]
     },
     "metadata": {
      "needs_background": "light"
     },
     "output_type": "display_data"
    }
   ],
   "source": [
    "y=movies_before_pandemic['Net Gross (Worldwide)'].to_numpy()\n",
    "x=movies_before_pandemic['IMDB Rating'].to_numpy()\n",
    "plt.ylim( [ 0, 1e+09 ] )\n",
    "b1, b0 = np.polyfit(x, y, 1)\n",
    "plt.plot(x, y, 'ro', markersize=5)\n",
    "plt.plot(x, b0 + b1*x, 'b-', lw=3)\n",
    "plt.ylabel('Net Gross (Worldwide)')\n",
    "plt.xlabel('IMDB Rating')\n"
   ]
  },
  {
   "cell_type": "markdown",
   "id": "e9092bb4-8136-49c7-b795-8183e946718a",
   "metadata": {},
   "source": [
    "By looking at the graph, we can tell that the fit is far from perfect. This hunch can be verified by looking at the Coefficient of Determination(R2), which is a value between 0 and 1.The closer this value is to 1, the better is the fit. And if the value is close to 0, the regression is not a very good fit."
   ]
  },
  {
   "cell_type": "code",
   "execution_count": 13,
   "id": "69e17929-875b-4b28-83bb-764fa2ff1054",
   "metadata": {},
   "outputs": [],
   "source": [
    "def compute_R2(x, y):\n",
    "    b1, b0 = np.polyfit(x, y, 1)\n",
    "    y_bar = np.mean(y)\n",
    "    y_hat = b0 + b1*x\n",
    "    ssr = np.sum((y_hat - y_bar)**2)\n",
    "    sst = np.sum((y - y_bar)**2)\n",
    "    r2 = ssr/sst\n",
    "    return r2"
   ]
  },
  {
   "cell_type": "code",
   "execution_count": 14,
   "id": "eb5ef004-df2d-4ea0-9430-d5c5143c1b26",
   "metadata": {},
   "outputs": [
    {
     "data": {
      "text/plain": [
       "0.08408377648637438"
      ]
     },
     "execution_count": 14,
     "metadata": {},
     "output_type": "execute_result"
    }
   ],
   "source": [
    "compute_R2(x,y)"
   ]
  },
  {
   "cell_type": "markdown",
   "id": "589a0daa-e0c9-4507-bdec-8a28a61eb64c",
   "metadata": {},
   "source": [
    "As we can see that this is a very bad fit. So the relation between ratings and box-office gross is definitely not linear. However, what we can see is that there is a possibility that Gross more or less increases with IMDB rating. This isn't trivial, as a lot of the times, movies that do not find much critical acclaim (and hence have low IMDB ratings) are very popular with the people and make a lot of money. So this is what we test next as a hypothesis.\n",
    "\n",
    "H0: There is no relation between IMDB Rating and Box Office Gross have no relation ie b1=0\n",
    "Ha: Gross increases with IMDB Rating ie b1>0\n",
    "\n",
    "alpha=0.05\n",
    "\n",
    "Test Statistic: T=(B1-b1)/(S/sqrt(Sxx)) where B1 is the observed value and b1 is 0 according to the null hypothesis.\n",
    "\n",
    "\n"
   ]
  },
  {
   "cell_type": "code",
   "execution_count": 15,
   "id": "1ab10920-f668-46af-b8d0-b4337709f2ef",
   "metadata": {},
   "outputs": [
    {
     "data": {
      "text/plain": [
       "1.56238053861113e-06"
      ]
     },
     "execution_count": 15,
     "metadata": {},
     "output_type": "execute_result"
    }
   ],
   "source": [
    "import scipy.stats as stats\n",
    "sxx = np.sum((x - np.mean(x))**2)\n",
    "S = np.sqrt(np.sum((y - b0 - b1*x)**2)/(len(x) - 2))\n",
    "T = b1/(S/np.sqrt(sxx))\n",
    "t_dist = stats.t(df=len(x)-2)\n",
    "p_value = 1 - t_dist.cdf(T)\n",
    "p_value"
   ]
  },
  {
   "cell_type": "markdown",
   "id": "3305ea76-6442-4c2d-9b82-27d89916576f",
   "metadata": {},
   "source": [
    "P-value: (as calculated above)\n",
    "\n",
    "Thus, the p-value is much less than the level of significance alpha. So, we reject the null hypothesis and establish with somewhat confidence that as IMDB ratings increase, the Gross more or less increases and isn't completely unrelated to it.\n"
   ]
  },
  {
   "cell_type": "markdown",
   "id": "5dd92c4e-cb69-48cf-b974-9043cfc41b3c",
   "metadata": {},
   "source": [
    " Now, let's do all the same things with data from the pamdemic included."
   ]
  },
  {
   "cell_type": "code",
   "execution_count": 17,
   "id": "b8bd828b-1fa5-4e03-8f34-7a4ea3c8f600",
   "metadata": {},
   "outputs": [],
   "source": [
    "y=movies['Net Gross (Worldwide)'].to_numpy()\n",
    "x=movies['IMDB Rating'].to_numpy()"
   ]
  },
  {
   "cell_type": "code",
   "execution_count": 18,
   "id": "7347cbe5-9481-451b-90c7-28a7e24763ec",
   "metadata": {},
   "outputs": [
    {
     "data": {
      "text/plain": [
       "Text(0.5, 0, 'IMDB Rating')"
      ]
     },
     "execution_count": 18,
     "metadata": {},
     "output_type": "execute_result"
    },
    {
     "data": {
      "image/png": "[encoded data removed]",
      "text/plain": [
       "<Figure size 432x288 with 1 Axes>"
      ]
     },
     "metadata": {
      "needs_background": "light"
     },
     "output_type": "display_data"
    }
   ],
   "source": [
    "plt.ylim( [ 0, 1e+09 ] )\n",
    "b1, b0 = np.polyfit(x, y, 1)\n",
    "plt.plot(x, y, 'ro', markersize=5)\n",
    "plt.plot(x, b0 + b1*x, 'b-', lw=3)\n",
    "plt.ylabel('Net Gross (Worldwide)')\n",
    "plt.xlabel('IMDB Rating')\n"
   ]
  },
  {
   "cell_type": "code",
   "execution_count": 19,
   "id": "2619b179-77c8-4924-b2cc-2e1d3b0fd904",
   "metadata": {},
   "outputs": [
    {
     "data": {
      "text/plain": [
       "0.057063681921571754"
      ]
     },
     "execution_count": 19,
     "metadata": {},
     "output_type": "execute_result"
    }
   ],
   "source": [
    "compute_R2(x,y)"
   ]
  },
  {
   "cell_type": "code",
   "execution_count": 20,
   "id": "47e7ad7c-502f-4bff-9c41-dd9f43533110",
   "metadata": {},
   "outputs": [
    {
     "data": {
      "text/plain": [
       "3.336577971690957e-07"
      ]
     },
     "execution_count": 20,
     "metadata": {},
     "output_type": "execute_result"
    }
   ],
   "source": [
    "sxx = np.sum((x - np.mean(x))**2)\n",
    "S = np.sqrt(np.sum((y - b0 - b1*x)**2)/(len(x) - 2))\n",
    "T = b1/(S/np.sqrt(sxx))\n",
    "t_dist = stats.t(df=len(x)-2)\n",
    "p_value = 1 - t_dist.cdf(T)\n",
    "p_value"
   ]
  },
  {
   "cell_type": "markdown",
   "id": "ef7c37cf-1bc9-44e9-822f-8100c5bf14c4",
   "metadata": {},
   "source": [
    "Although the fit now is a little worse, inclusion of pandemic data does not significantly affect or alter our conclusions."
   ]
  },
  {
   "cell_type": "markdown",
   "id": "d843a753-942c-401c-af56-9870bc5e18e1",
   "metadata": {
    "tags": []
   },
   "source": [
    "# Hypothesis Testing"
   ]
  },
  {
   "cell_type": "code",
   "execution_count": null,
   "id": "659ccb8c-ceaf-4acc-ba87-6fba516a9c9c",
   "metadata": {},
   "outputs": [],
   "source": [
    "movies_before_pandemic=movies[movies.Year.isin([2018,2019])]\n",
    "y1=movies_before_pandemic['Net Gross (Worldwide)'].to_numpy()\n",
    "x1=movies_before_pandemic['IMDB Rating'].to_numpy()"
   ]
  },
  {
   "cell_type": "code",
   "execution_count": null,
   "id": "7f3dcfbf-b8f0-4d11-8358-8c7299ce83e1",
   "metadata": {},
   "outputs": [],
   "source": [
    "movies_after_pandemic=movies[movies.Year.isin([2020,2021,2022])]\n",
    "y2=movies_after_pandemic['Net Gross (Worldwide)'].to_numpy()\n",
    "x2=movies_after_pandemic['IMDB Rating'].to_numpy()"
   ]
  },
  {
   "cell_type": "code",
   "execution_count": 164,
   "id": "c1230bc9-8bef-47fb-b59d-ea0af85363c1",
   "metadata": {},
   "outputs": [
    {
     "name": "stdout",
     "output_type": "stream",
     "text": [
      "184142925.96385542\n"
     ]
    }
   ],
   "source": [
    "Rmean1=np.mean(y1) ; print(Rmean1)"
   ]
  },
  {
   "cell_type": "code",
   "execution_count": 168,
   "id": "8b95609b-2cd9-45fc-adda-f6368c1d9b66",
   "metadata": {},
   "outputs": [
    {
     "name": "stdout",
     "output_type": "stream",
     "text": [
      "6.402811244979921\n"
     ]
    }
   ],
   "source": [
    "RmeanR1=np.mean(x1) ; print(RmeanR1)"
   ]
  },
  {
   "cell_type": "code",
   "execution_count": 165,
   "id": "65c02642-90a0-459f-9bf1-c3c623afe8ac",
   "metadata": {},
   "outputs": [
    {
     "name": "stdout",
     "output_type": "stream",
     "text": [
      "62621334.4127907\n"
     ]
    }
   ],
   "source": [
    "Rmean2=np.mean(y2) ; print(Rmean2)"
   ]
  },
  {
   "cell_type": "code",
   "execution_count": 167,
   "id": "1934d7a5-c0d9-42ad-ac23-95c94867600f",
   "metadata": {
    "tags": []
   },
   "outputs": [
    {
     "name": "stdout",
     "output_type": "stream",
     "text": [
      "6.20174418604651\n"
     ]
    }
   ],
   "source": [
    "RmeanR2=np.mean(x2) ; print(RmeanR2)"
   ]
  },
  {
   "cell_type": "markdown",
   "id": "caba8f7b-c6c1-4e71-afa9-c8bbfd44c1a9",
   "metadata": {
    "tags": []
   },
   "source": [
    "Hypothesis Testing on Gross Income"
   ]
  },
  {
   "cell_type": "markdown",
   "id": "6987952a-58eb-4e20-87df-4a155dd53b85",
   "metadata": {
    "tags": []
   },
   "source": [
    "This will give us an idea about the effect of pandemic before and after pandemic movies. Here we will get a proper analytical approach.We perform a hypothesis test of the mean of year (2018,2019)  and (2020,2021,2022). Mean of this two is equal implies there was no effect of pandemic on box office movies."
   ]
  },
  {
   "cell_type": "markdown",
   "id": "3892b225-1b27-49d0-82d6-81a44e8e29e7",
   "metadata": {},
   "source": [
    " Null Hypothesis: H0 : mean1=mean2\n",
    " Alternate Hypothesis: H1 : ρ mean1>=mean2\n",
    " What does our Hypothesis mean qualitatively?\n",
    " Null Hypothesis: H0 : This means that there is no significant effect of pandamic on cinemas and its income.\n",
    " Alternate Hypothesis: H1 : This means that pandemic has significantly affect post pandemic movies in there income.\n",
    "Using p-value to make decision with Significance Level 5%\n",
    "1. If the p-value is less than the significance level(α = 0.05):\n",
    "Decision: Reject the null hypothesis.\n",
    "Conclusion:There is sufficient evidence to conclude that there is a sig\u0002nificant linear relationship.\n",
    "\n",
    "2. If the p-value is NOT less than the significance level:\n",
    "Decision: WE FAIL TO REJECT the null hypothesis.\n",
    "Conclusion: There is INSUFFICIENT EVIDENCE to conclude that\n",
    "there is a significant linear relationship."
   ]
  },
  {
   "cell_type": "markdown",
   "id": "48c3b805-fb81-4fd1-80a0-fec6d26d4c98",
   "metadata": {},
   "source": [
    "### What is Gross income?\n",
    "To determine if a movie made a profit, it is not correct to directly compare the box office gross with the production budget, because the movie theater keeps nearly half of the gross on average. Gross refers to gross earnings. On average, the movie's distributor receives a little more than half of the final gross (often referred to as the rentals) with the remainder going to the exhibitor (i.e., movie theater)."
   ]
  },
  {
   "cell_type": "markdown",
   "id": "ee0c6768-cfb9-4077-ac60-4ddf2ebec87f",
   "metadata": {},
   "source": [
    "z= (mean1-mean2)-(Rmean1-Rmean2)/sqrt(var(y1)/len(y1)+var(t2)/len(y2))"
   ]
  },
  {
   "cell_type": "markdown",
   "id": "5a17cc82-fe93-44f8-8d87-20589c932262",
   "metadata": {},
   "source": [
    "y1 is gross income in 2018 and 2019 . y2 is gross income in 2020,2021 and 2022."
   ]
  },
  {
   "cell_type": "markdown",
   "id": "ca2f1ccd-f158-4d5e-bb89-93c448de142a",
   "metadata": {},
   "source": [
    "as we our null hypothesis is mean1=mean2,so z becomes"
   ]
  },
  {
   "cell_type": "code",
   "execution_count": 160,
   "id": "5892edcc-929c-447e-afe5-f866e6a9616b",
   "metadata": {},
   "outputs": [],
   "source": [
    "z=-(Rmean1-Rmean2)/sqrt(var(y1)/len(y1)+var(y2)/len(y2))"
   ]
  },
  {
   "cell_type": "markdown",
   "id": "d2aca921-2bd2-4c6d-bb1f-5c01874786b4",
   "metadata": {},
   "source": [
    "Rmean1 and Rmean2 is mean of our data fro 2018,2019 and 2020,2021,2022."
   ]
  },
  {
   "cell_type": "code",
   "execution_count": 163,
   "id": "98e19995-7b4d-41ce-b03b-2a1bee6f8aef",
   "metadata": {},
   "outputs": [
    {
     "name": "stdout",
     "output_type": "stream",
     "text": [
      "1.0716043472125502e-06\n"
     ]
    }
   ],
   "source": [
    "pvalue=stats.t.pdf(z,df=len(DATA)-1) ; print(pvalue)"
   ]
  },
  {
   "cell_type": "markdown",
   "id": "54bce3d5-3a78-4002-a3d9-d22d3eb00f37",
   "metadata": {},
   "source": [
    "comparing pvalue obtained with alppha=0.05. If alpha is bigger than pvalue obtained than null hypothesis is TRUE if not FALSE."
   ]
  },
  {
   "cell_type": "markdown",
   "id": "252baaaa-83e2-4997-823a-3e4bc1cdf83a",
   "metadata": {},
   "source": [
    "As pvalue is smaller than alpha i.e. 0.05 so we reject null hypothesis and accept alternate hypothesis. So we conclude that movies which are released after pandemic not earned much."
   ]
  },
  {
   "cell_type": "markdown",
   "id": "b632967c-9848-4627-b605-3119fac2e683",
   "metadata": {},
   "source": [
    "# note\n",
    "Rmean means real mean. Rmean1 is mean of 2018 and 2019 . Rmean2 is mean of 2020,2021 and 2022. "
   ]
  },
  {
   "cell_type": "markdown",
   "id": "beb2a45d-520a-44f9-9fdb-5c3266158479",
   "metadata": {},
   "source": [
    "hypothesis test on IMBd Rating"
   ]
  },
  {
   "cell_type": "markdown",
   "id": "38477458-ae64-442a-b73d-c1cf4de18382",
   "metadata": {},
   "source": [
    " Null Hypothesis: H0 : MeanR1=MeanR2 \n",
    " MeanR1 is mean of rating of movies of 2018 and 2019. meanR2 is mean of rating of movies of 2020,2021 and 2022.\n",
    " Alternate Hypothesis: H1 : MeanR1>=MeanR2\n",
    " What does our Hypothesis mean qualitatively?\n",
    " Null Hypothesis: H0 : This means that there is no significant effect of pandamic on cinemas and its rating or Quality.\n",
    " Alternate Hypothesis: H1 : This means that pandemic has significantly affect post pandemic movies in there Rating or Quality. This means that after pandemic there were not that good movies released.\n",
    "Using p-value to make decision with Significance Level 5%\n",
    "1. If the p-value is less than the significance level(α = 0.05):\n",
    "Decision: Reject the null hypothesis.\n",
    "Conclusion:There is sufficient evidence to conclude that there is a sig\u0002nificant linear relationship.\n",
    "\n",
    "2. If the p-value is NOT less than the significance level:\n",
    "Decision: WE FAIL TO REJECT the null hypothesis.\n",
    "Conclusion: There is INSUFFICIENT EVIDENCE to conclude that\n",
    "there is a significant linear relationship."
   ]
  },
  {
   "cell_type": "markdown",
   "id": "c6341d94-a396-4c9e-921b-17be1338ca74",
   "metadata": {},
   "source": [
    "### What is IMDb Rating ?"
   ]
  },
  {
   "cell_type": "markdown",
   "id": "c31360fb-d469-4238-a800-8b68b11696e2",
   "metadata": {},
   "source": [
    "IMDb  is an online database of information related to films, television series, home videos, video games, and streaming content online – including cast, production crew and personal biographies, plot summaries, trivia, ratings, and fan and critical reviews. IMDb began as a fan-operated movie database on the Usenet group \"rec.arts.movies\" in 1990, and moved to the Web in 1993. It is now owned and operated by IMDb.com, Inc., a subsidiary of Amazon.\n",
    "IMDb registered users can cast a vote (from 1 to 10) on every released title in the database. Individual votes are then aggregated and summarized as a single IMDb rating, visible on the title's main page. By \"released title\" we mean that the movie (or TV show) must have been shown publicly at least once (including festival screening).\n",
    "Users can update their votes as often as they'd like, but any new vote on the same title will overwrite the previous one, so it is one vote per title per user."
   ]
  },
  {
   "cell_type": "markdown",
   "id": "31169bf8-c81e-4fcb-a226-c330c5e10761",
   "metadata": {},
   "source": [
    "z= (meanR1-meanR2)-(RmeanR1-RmeanR2)/sqrt(var(Data1)/len(Data1) + var(Data2)/len(Data2))"
   ]
  },
  {
   "cell_type": "markdown",
   "id": "9925effb-41b4-4256-a1ff-04c57f728cd7",
   "metadata": {},
   "source": [
    "Here Data1 and Data2 are rating of movies of 2018,2019 and 2020,2021,2022.RmeanR1 and RmeanR2 mean of rating of movies of 2018,2019 and 2020,2021,2022.As per our Null hypothesis meanR1 = meanR2 so,"
   ]
  },
  {
   "cell_type": "code",
   "execution_count": 173,
   "id": "e28058fc-6d9f-4554-abee-6281a73ed267",
   "metadata": {},
   "outputs": [
    {
     "name": "stdout",
     "output_type": "stream",
     "text": [
      "-1.8442586079598704\n"
     ]
    }
   ],
   "source": [
    "z=-(RmeanR1-RmeanR2)/sqrt(var(x1)/len(x1) + var(x2)/len(x2)) ; print(z)"
   ]
  },
  {
   "cell_type": "code",
   "execution_count": 174,
   "id": "04c9c1ef-eac6-4e86-a826-f573eb03e5d0",
   "metadata": {},
   "outputs": [
    {
     "name": "stdout",
     "output_type": "stream",
     "text": [
      "0.07299476661826769\n"
     ]
    }
   ],
   "source": [
    "p_value=stats.t.pdf(z,df=len(DATA)-1) ; print(p_value)"
   ]
  },
  {
   "cell_type": "markdown",
   "id": "7489e5fc-98cb-41bd-99d5-cd0d139a3199",
   "metadata": {},
   "source": [
    "comparing pvalue obtained with alppha=0.05. If alpha is bigger than pvalue obtained than null hypothesis is TRUE if not FALSE."
   ]
  },
  {
   "cell_type": "markdown",
   "id": "3b4e2cb7-b656-430d-b0da-cafc0b413cc8",
   "metadata": {},
   "source": [
    "As pvalue is greater than alpha so we accept Null hypothesis.This testing show that there was not significant effect of pandemic onn Quality of movie released."
   ]
  },
  {
   "cell_type": "markdown",
   "id": "d8043537-e748-4774-ab34-5b1a8bd5d632",
   "metadata": {},
   "source": [
    "CONCLUSION AND TAKEAWAYS\n",
    "In this project, we have been able to get great insights into the data we collected, using data analysis methods we learnt in class. We explored different types of data analysis and applied the theory we learnt in real life. And while sometimes our intuition proved to be right, it sometimes was wrong. This we feel is our biggest takeaway from this project, how our intuitions, even the most reasonable ones, might fail. So, it is crucial that we test our hunches and even our convictions against available data and always have an open mind. This is the essence of the scientific method, and this learning will stay with us for a long time."
   ]
  },
  {
   "cell_type": "markdown",
   "id": "72181446-8206-4fae-a0cc-99ee65f68fe8",
   "metadata": {},
   "source": [
    "ACKNOWLEDGEMENTS\n",
    "We would like to express our sincere thanks to Prof. Amuthan Ramabathiran, one of the most approachable, sympathetic and jovial profs we have come across, for the oppurtunity to do this project. He made learning data analysis fun and easy. Also, taking on the burden of grading all projects in one night just so that the students could have extra time is not something every professor will do, nor will every professor give you extra time in an exam just because you asked for it. We hope that we have been able to live up to his expectations and look forward to getting taught by Prof Ramabathiran again."
   ]
  },
  {
   "cell_type": "markdown",
   "id": "689e40e8-349d-46eb-95a0-a8174e98fcf7",
   "metadata": {},
   "source": [
    "CONTRIBUTIONS\n",
    "Shreyash: Hypothesis Testing, 2018 Data Collection\n",
    "Prashasti: Data description and Graphs for Net Gross, 2019 Data Collection\n",
    "Kanika: Data description and Graphs for IMDB Rating, 2021 Data Collection\n",
    "Pranjal: Introduction, Linear Regression, Conclusion, 2020 and 2022 Data Collection"
   ]
  }
 ],
 "metadata": {
  "kernelspec": {
   "display_name": "Python 3 (ipykernel)",
   "language": "python",
   "name": "python3"
  },
  "language_info": {
   "codemirror_mode": {
    "name": "ipython",
    "version": 3
   },
   "file_extension": ".py",
   "mimetype": "text/x-python",
   "name": "python",
   "nbconvert_exporter": "python",
   "pygments_lexer": "ipython3",
   "version": "3.9.7"
  }
 },
 "nbformat": 4,
 "nbformat_minor": 5
}
